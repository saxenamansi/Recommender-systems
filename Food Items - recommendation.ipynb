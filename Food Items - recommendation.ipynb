{
 "cells": [
  {
   "cell_type": "code",
   "execution_count": 1,
   "metadata": {},
   "outputs": [],
   "source": [
    "import numpy as np\n",
    "import pandas as pd\n",
    "import matplotlib.pyplot as plt\n",
    "import seaborn as sns\n",
    "import plotly.express as px\n",
    "%matplotlib inline"
   ]
  },
  {
   "cell_type": "code",
   "execution_count": 2,
   "metadata": {},
   "outputs": [],
   "source": [
    "fooditems = pd.read_csv('https://raw.githubusercontent.com/syedayazsa/data/master/food_items.csv')"
   ]
  },
  {
   "cell_type": "code",
   "execution_count": 3,
   "metadata": {},
   "outputs": [
    {
     "data": {
      "text/html": [
       "<div>\n",
       "<style scoped>\n",
       "    .dataframe tbody tr th:only-of-type {\n",
       "        vertical-align: middle;\n",
       "    }\n",
       "\n",
       "    .dataframe tbody tr th {\n",
       "        vertical-align: top;\n",
       "    }\n",
       "\n",
       "    .dataframe thead th {\n",
       "        text-align: right;\n",
       "    }\n",
       "</style>\n",
       "<table border=\"1\" class=\"dataframe\">\n",
       "  <thead>\n",
       "    <tr style=\"text-align: right;\">\n",
       "      <th></th>\n",
       "      <th>index</th>\n",
       "      <th>brand</th>\n",
       "      <th>categories</th>\n",
       "      <th>ingredients</th>\n",
       "      <th>manufacturer</th>\n",
       "      <th>title</th>\n",
       "      <th>Unnamed: 6</th>\n",
       "      <th>Unnamed: 7</th>\n",
       "      <th>Unnamed: 8</th>\n",
       "      <th>Unnamed: 9</th>\n",
       "      <th>...</th>\n",
       "      <th>Unnamed: 20</th>\n",
       "      <th>Unnamed: 21</th>\n",
       "      <th>Unnamed: 22</th>\n",
       "      <th>Unnamed: 23</th>\n",
       "      <th>Unnamed: 24</th>\n",
       "      <th>Unnamed: 25</th>\n",
       "      <th>Unnamed: 26</th>\n",
       "      <th>Unnamed: 27</th>\n",
       "      <th>Unnamed: 28</th>\n",
       "      <th>Unnamed: 29</th>\n",
       "    </tr>\n",
       "  </thead>\n",
       "  <tbody>\n",
       "    <tr>\n",
       "      <th>0</th>\n",
       "      <td>0</td>\n",
       "      <td>Simon Fischer</td>\n",
       "      <td>Grocery &amp; Gourmet Food,Food,Grocery</td>\n",
       "      <td>Dried Prunes,Water,Corn Syrup,Sugar,Pectin.</td>\n",
       "      <td>Sokol And Company</td>\n",
       "      <td>Simon Fischer Fruit Bttr Prune Lekvar</td>\n",
       "      <td>NaN</td>\n",
       "      <td>NaN</td>\n",
       "      <td>NaN</td>\n",
       "      <td>NaN</td>\n",
       "      <td>...</td>\n",
       "      <td>NaN</td>\n",
       "      <td>NaN</td>\n",
       "      <td>NaN</td>\n",
       "      <td>NaN</td>\n",
       "      <td>NaN</td>\n",
       "      <td>NaN</td>\n",
       "      <td>NaN</td>\n",
       "      <td>NaN</td>\n",
       "      <td>NaN</td>\n",
       "      <td>NaN</td>\n",
       "    </tr>\n",
       "    <tr>\n",
       "      <th>1</th>\n",
       "      <td>1</td>\n",
       "      <td>McCormick</td>\n",
       "      <td>Grocery &amp; Gourmet Food,Food,Grocery</td>\n",
       "      <td>Salt,Sugar,Molasses (Refinery Syrup, Molasses,...</td>\n",
       "      <td>McCormick &amp; Co, Inc</td>\n",
       "      <td>McCORMICK GRILL MATES MOLASSES BACON SEASONING...</td>\n",
       "      <td>NaN</td>\n",
       "      <td>NaN</td>\n",
       "      <td>NaN</td>\n",
       "      <td>NaN</td>\n",
       "      <td>...</td>\n",
       "      <td>NaN</td>\n",
       "      <td>NaN</td>\n",
       "      <td>NaN</td>\n",
       "      <td>NaN</td>\n",
       "      <td>NaN</td>\n",
       "      <td>NaN</td>\n",
       "      <td>NaN</td>\n",
       "      <td>NaN</td>\n",
       "      <td>NaN</td>\n",
       "      <td>NaN</td>\n",
       "    </tr>\n",
       "    <tr>\n",
       "      <th>2</th>\n",
       "      <td>2</td>\n",
       "      <td>Jolly Time</td>\n",
       "      <td>Grocery &amp; Gourmet Food,Grocery</td>\n",
       "      <td>Salt, Yellow 5 Lake, Tricalcium Phosphate And ...</td>\n",
       "      <td>Reese's</td>\n",
       "      <td>Jolly Time Popcorn</td>\n",
       "      <td>NaN</td>\n",
       "      <td>NaN</td>\n",
       "      <td>NaN</td>\n",
       "      <td>NaN</td>\n",
       "      <td>...</td>\n",
       "      <td>NaN</td>\n",
       "      <td>NaN</td>\n",
       "      <td>NaN</td>\n",
       "      <td>NaN</td>\n",
       "      <td>NaN</td>\n",
       "      <td>NaN</td>\n",
       "      <td>NaN</td>\n",
       "      <td>NaN</td>\n",
       "      <td>NaN</td>\n",
       "      <td>NaN</td>\n",
       "    </tr>\n",
       "    <tr>\n",
       "      <th>3</th>\n",
       "      <td>3</td>\n",
       "      <td>Ziyad</td>\n",
       "      <td>Grocery &amp; Gourmet Food,grocery</td>\n",
       "      <td>Mechanically hulled seasame seeds.Allergy Info...</td>\n",
       "      <td>Ziyad</td>\n",
       "      <td>Ziyad Tahini Sesame Sauce</td>\n",
       "      <td>NaN</td>\n",
       "      <td>NaN</td>\n",
       "      <td>NaN</td>\n",
       "      <td>NaN</td>\n",
       "      <td>...</td>\n",
       "      <td>NaN</td>\n",
       "      <td>NaN</td>\n",
       "      <td>NaN</td>\n",
       "      <td>NaN</td>\n",
       "      <td>NaN</td>\n",
       "      <td>NaN</td>\n",
       "      <td>NaN</td>\n",
       "      <td>NaN</td>\n",
       "      <td>NaN</td>\n",
       "      <td>NaN</td>\n",
       "    </tr>\n",
       "    <tr>\n",
       "      <th>4</th>\n",
       "      <td>4</td>\n",
       "      <td>Fla-Vor-Ice</td>\n",
       "      <td>Grocery &amp; Gourmet Food,grocery</td>\n",
       "      <td>FALSE</td>\n",
       "      <td>Fla-Vor-Ice</td>\n",
       "      <td>Fla-Vor-Ice Plus Giant Pops</td>\n",
       "      <td>NaN</td>\n",
       "      <td>NaN</td>\n",
       "      <td>NaN</td>\n",
       "      <td>NaN</td>\n",
       "      <td>...</td>\n",
       "      <td>NaN</td>\n",
       "      <td>NaN</td>\n",
       "      <td>NaN</td>\n",
       "      <td>NaN</td>\n",
       "      <td>NaN</td>\n",
       "      <td>NaN</td>\n",
       "      <td>NaN</td>\n",
       "      <td>NaN</td>\n",
       "      <td>NaN</td>\n",
       "      <td>NaN</td>\n",
       "    </tr>\n",
       "  </tbody>\n",
       "</table>\n",
       "<p>5 rows × 30 columns</p>\n",
       "</div>"
      ],
      "text/plain": [
       "   index          brand                           categories  \\\n",
       "0      0  Simon Fischer  Grocery & Gourmet Food,Food,Grocery   \n",
       "1      1      McCormick  Grocery & Gourmet Food,Food,Grocery   \n",
       "2      2     Jolly Time       Grocery & Gourmet Food,Grocery   \n",
       "3      3          Ziyad       Grocery & Gourmet Food,grocery   \n",
       "4      4    Fla-Vor-Ice       Grocery & Gourmet Food,grocery   \n",
       "\n",
       "                                         ingredients         manufacturer  \\\n",
       "0        Dried Prunes,Water,Corn Syrup,Sugar,Pectin.    Sokol And Company   \n",
       "1  Salt,Sugar,Molasses (Refinery Syrup, Molasses,...  McCormick & Co, Inc   \n",
       "2  Salt, Yellow 5 Lake, Tricalcium Phosphate And ...              Reese's   \n",
       "3  Mechanically hulled seasame seeds.Allergy Info...                Ziyad   \n",
       "4                                              FALSE          Fla-Vor-Ice   \n",
       "\n",
       "                                               title Unnamed: 6 Unnamed: 7  \\\n",
       "0              Simon Fischer Fruit Bttr Prune Lekvar        NaN        NaN   \n",
       "1  McCORMICK GRILL MATES MOLASSES BACON SEASONING...        NaN        NaN   \n",
       "2                                 Jolly Time Popcorn        NaN        NaN   \n",
       "3                          Ziyad Tahini Sesame Sauce        NaN        NaN   \n",
       "4                        Fla-Vor-Ice Plus Giant Pops        NaN        NaN   \n",
       "\n",
       "  Unnamed: 8 Unnamed: 9  ... Unnamed: 20 Unnamed: 21 Unnamed: 22 Unnamed: 23  \\\n",
       "0        NaN        NaN  ...         NaN         NaN         NaN         NaN   \n",
       "1        NaN        NaN  ...         NaN         NaN         NaN         NaN   \n",
       "2        NaN        NaN  ...         NaN         NaN         NaN         NaN   \n",
       "3        NaN        NaN  ...         NaN         NaN         NaN         NaN   \n",
       "4        NaN        NaN  ...         NaN         NaN         NaN         NaN   \n",
       "\n",
       "  Unnamed: 24 Unnamed: 25 Unnamed: 26 Unnamed: 27 Unnamed: 28 Unnamed: 29  \n",
       "0         NaN         NaN         NaN         NaN         NaN         NaN  \n",
       "1         NaN         NaN         NaN         NaN         NaN         NaN  \n",
       "2         NaN         NaN         NaN         NaN         NaN         NaN  \n",
       "3         NaN         NaN         NaN         NaN         NaN         NaN  \n",
       "4         NaN         NaN         NaN         NaN         NaN         NaN  \n",
       "\n",
       "[5 rows x 30 columns]"
      ]
     },
     "execution_count": 3,
     "metadata": {},
     "output_type": "execute_result"
    }
   ],
   "source": [
    "fooditems.head()\n",
    "#sns.heatmap(fooditems.isnull())"
   ]
  },
  {
   "cell_type": "code",
   "execution_count": 4,
   "metadata": {},
   "outputs": [
    {
     "data": {
      "text/plain": [
       "Index(['index', 'brand', 'categories', 'ingredients', 'manufacturer', 'title',\n",
       "       'Unnamed: 6', 'Unnamed: 7', 'Unnamed: 8', 'Unnamed: 9', 'Unnamed: 10',\n",
       "       'Unnamed: 11', 'Unnamed: 12', 'Unnamed: 13', 'Unnamed: 14',\n",
       "       'Unnamed: 15', 'Unnamed: 16', 'Unnamed: 17', 'Unnamed: 18',\n",
       "       'Unnamed: 19', 'Unnamed: 20', 'Unnamed: 21', 'Unnamed: 22',\n",
       "       'Unnamed: 23', 'Unnamed: 24', 'Unnamed: 25', 'Unnamed: 26',\n",
       "       'Unnamed: 27', 'Unnamed: 28', 'Unnamed: 29'],\n",
       "      dtype='object')"
      ]
     },
     "execution_count": 4,
     "metadata": {},
     "output_type": "execute_result"
    }
   ],
   "source": [
    "fooditems.columns"
   ]
  },
  {
   "cell_type": "code",
   "execution_count": 5,
   "metadata": {},
   "outputs": [],
   "source": [
    "fooditems.drop(['Unnamed: 6', 'Unnamed: 7', 'Unnamed: 8', 'Unnamed: 9', 'Unnamed: 10',\n",
    "       'Unnamed: 11', 'Unnamed: 12', 'Unnamed: 13', 'Unnamed: 14',\n",
    "       'Unnamed: 15', 'Unnamed: 16', 'Unnamed: 17', 'Unnamed: 18',\n",
    "       'Unnamed: 19', 'Unnamed: 20', 'Unnamed: 21', 'Unnamed: 22',\n",
    "       'Unnamed: 23', 'Unnamed: 24', 'Unnamed: 25', 'Unnamed: 26',\n",
    "       'Unnamed: 27', 'Unnamed: 28', 'Unnamed: 29'], axis = 1, inplace = True)"
   ]
  },
  {
   "cell_type": "code",
   "execution_count": 6,
   "metadata": {},
   "outputs": [
    {
     "data": {
      "text/plain": [
       "<matplotlib.axes._subplots.AxesSubplot at 0x1ec0a9d0f88>"
      ]
     },
     "execution_count": 6,
     "metadata": {},
     "output_type": "execute_result"
    },
    {
     "data": {
      "image/png": "[encoded data removed]",
      "text/plain": [
       "<Figure size 432x288 with 2 Axes>"
      ]
     },
     "metadata": {
      "needs_background": "light"
     },
     "output_type": "display_data"
    }
   ],
   "source": [
    "sns.heatmap(fooditems.isnull())"
   ]
  },
  {
   "cell_type": "code",
   "execution_count": 7,
   "metadata": {},
   "outputs": [],
   "source": [
    "fooditems.fillna('Unknown', inplace = True)"
   ]
  },
  {
   "cell_type": "code",
   "execution_count": 8,
   "metadata": {},
   "outputs": [],
   "source": [
    "#cosine similarity method"
   ]
  },
  {
   "cell_type": "code",
   "execution_count": 9,
   "metadata": {},
   "outputs": [],
   "source": [
    "from sklearn.feature_extraction.text import CountVectorizer"
   ]
  },
  {
   "cell_type": "code",
   "execution_count": 10,
   "metadata": {},
   "outputs": [],
   "source": [
    "cv = CountVectorizer()"
   ]
  },
  {
   "cell_type": "code",
   "execution_count": 11,
   "metadata": {},
   "outputs": [],
   "source": [
    "count_matrix = cv.fit_transform(fooditems['ingredients'])"
   ]
  },
  {
   "cell_type": "code",
   "execution_count": 12,
   "metadata": {},
   "outputs": [
    {
     "data": {
      "text/plain": [
       "array([[0, 0, 0, ..., 0, 0, 0],\n",
       "       [0, 0, 0, ..., 0, 0, 0],\n",
       "       [0, 0, 0, ..., 0, 0, 0],\n",
       "       ...,\n",
       "       [0, 0, 0, ..., 0, 0, 0],\n",
       "       [0, 0, 0, ..., 0, 0, 0],\n",
       "       [0, 0, 0, ..., 0, 0, 0]], dtype=int64)"
      ]
     },
     "execution_count": 12,
     "metadata": {},
     "output_type": "execute_result"
    }
   ],
   "source": [
    "count_matrix.toarray()"
   ]
  },
  {
   "cell_type": "code",
   "execution_count": 13,
   "metadata": {},
   "outputs": [],
   "source": [
    "from sklearn.metrics.pairwise import cosine_similarity"
   ]
  },
  {
   "cell_type": "code",
   "execution_count": 14,
   "metadata": {},
   "outputs": [
    {
     "data": {
      "text/plain": [
       "array([[1.        , 0.18898224, 0.        , ..., 0.        , 0.03798686,\n",
       "        0.07049074],\n",
       "       [0.18898224, 1.        , 0.20833333, ..., 0.20412415, 0.17588162,\n",
       "        0.09325048],\n",
       "       [0.        , 0.20833333, 1.        , ..., 0.13608276, 0.26801008,\n",
       "        0.03108349],\n",
       "       ...,\n",
       "       [0.        , 0.20412415, 0.13608276, ..., 1.        , 0.14360674,\n",
       "        0.13324272],\n",
       "       [0.03798686, 0.17588162, 0.26801008, ..., 0.14360674, 1.        ,\n",
       "        0.17806849],\n",
       "       [0.07049074, 0.09325048, 0.03108349, ..., 0.13324272, 0.17806849,\n",
       "        1.        ]])"
      ]
     },
     "execution_count": 14,
     "metadata": {},
     "output_type": "execute_result"
    }
   ],
   "source": [
    "sim_scores = cosine_similarity(count_matrix)\n",
    "sim_scores"
   ]
  },
  {
   "cell_type": "code",
   "execution_count": 41,
   "metadata": {},
   "outputs": [
    {
     "name": "stdout",
     "output_type": "stream",
     "text": [
      "Enter the name of your food preferences: Simon Fischer Fruit Bttr Prune Lekvar\n"
     ]
    }
   ],
   "source": [
    "fchoice_title = input('Enter the name of your food preferences: ')"
   ]
  },
  {
   "cell_type": "code",
   "execution_count": 42,
   "metadata": {},
   "outputs": [],
   "source": [
    "def index_to_title(index):\n",
    "    return fooditems[fooditems.index == index]['title'].values[0]\n",
    "def title_to_index(title):\n",
    "    try:\n",
    "        return fooditems[fooditems.title == title]['index'].values[0]\n",
    "    except:\n",
    "        return 0"
   ]
  },
  {
   "cell_type": "code",
   "execution_count": 44,
   "metadata": {},
   "outputs": [
    {
     "data": {
      "text/plain": [
       "0"
      ]
     },
     "execution_count": 44,
     "metadata": {},
     "output_type": "execute_result"
    }
   ],
   "source": [
    "fchoice_index = title_to_index(fchoice_title)\n",
    "fchoice_index"
   ]
  },
  {
   "cell_type": "code",
   "execution_count": 64,
   "metadata": {},
   "outputs": [],
   "source": [
    "sim_food = list(enumerate(sim_scores[fchoice_index]))\n",
    "#sim_food"
   ]
  },
  {
   "cell_type": "code",
   "execution_count": 65,
   "metadata": {},
   "outputs": [],
   "source": [
    "sorted_sim_food = sorted(sim_food, key = lambda x:x[1], reverse = True)\n",
    "#sorted_sim_food                 "
   ]
  },
  {
   "cell_type": "code",
   "execution_count": 56,
   "metadata": {},
   "outputs": [
    {
     "name": "stdout",
     "output_type": "stream",
     "text": [
      "Simon Fischer Fruit Bttr Prune Lekvar\n",
      "Del Monte Sliced Peaches 15.25 oz\n",
      "Del Monte Sliced Peaches, 20.0 OZ\n",
      "Glory Foods Sweet Traditions Fresh Cut Sweet Potatoes In Light Syrup, 29 Oz\n",
      "Bruce?s Yams, 29 Oz\n",
      "Marshmallow Fluff - 16 oz plastic tub\n",
      "Smuckers Strawberry Preserves\n",
      "Trappist Preserve Jam Red Raspbry 12-ounce (pack of 6)\n",
      "Jam Red Raspbry Sdls -pack of 6\n",
      "Kikkoman Hon Tsuyu Soup Base for Noodle 17z x 2 bottles\n",
      "DICKINSON PRESERVE STRWBRY, 10 OZ PACK OF 3\n",
      "Goya Whole Kernel Golden Corn, 15.25 Oz\n",
      "Fresh Cut Sweet Corn Cream Style, No Salt Added, 14.75 oz (418 g)\n",
      "Hunt's Roasted Garlic _ Onion Pasta Sauce, 24 Oz.\n",
      "Goya Tamarind Nectar, 9.6 Ounce -- 24 per case.\n",
      "Delmonte Fruit Cocktail, 15.25 Oz\n",
      "Kikkoman Manjo Aji Mirin Cooking Rice Wine, 60-Ounce\n",
      "Kikkoman - Aji-Mirin (Sweet Cooking Rice Wine) 17 Oz.\n",
      "Trappist Preserve Jelly Red Currant 12-ounce (pack of 6)\n",
      "Hunt's Original Style Traditional Spaghetti Sauce 28 Oz\n",
      "Reese Baby Corn, Pickled Whole\n",
      "Yakisoba Source 1.8l Stalls\n",
      "Joyva Sesame Crunch 8 oz\n",
      "Hunt's Zesty _ Spicy Pasta Sauce, 24 Oz.\n",
      "Rum and Brandy Mincemeat Container\n",
      "Welchs Concord Grape Jelly\n",
      "Welchs Concord Grape Jelly\n",
      "Kraft Jet-Puffed Marshmallows - 16oz\n",
      "Musselman'sÂ® Original Apple Sauce 64 oz. Jar\n",
      "Reese Watermelon Rind, Jar, 10-Ounce (Pack of 6)\n",
      "Heera - Pineapple Slices In Light Syrup - 425g (pack of 3)\n",
      "Del Monte Lite Pear Halves Bartlett Pears in Extra Light Syrup, 15-Ounce (Pack of 8)\n",
      "White House Applesauce, 48 oz\n",
      "Hero Bitter Orange Marmalade\n",
      "Lifesavers Spearomint Mints Hard Candy Bag\n",
      "Taco Bell Hard Taco Shells 12ct 4.5oz\n",
      "Life Savers Pep-O-Mint Candy 6.25 Oz\n",
      "LifeSavers Hard Wint-O-Green\n",
      "Better Than Bouillon - Ham Base - 8 oz\n",
      "Slaw Dressing\n",
      "Paskesz Marshmallows, 8.0 OZ\n",
      "Starbucks Gift Set Tumbler Mug\n",
      "Green Giant Cream Style Sweet Corn, 14.75 Oz\n",
      "Musselman's Apple Sauce Cinnamon - 6 CT\n",
      "Sathers Artificially Flavored Cherry Slices Candy #10103 4.85 Oz - 12 Ea\n",
      "Musselman's Original Apple Sauce, 48 oz\n",
      "Japanese Fruit Gummy Candy from Kasugai - Kiwi - 107g\n",
      "Decorating Gel Pink\n",
      "Betty Crocker Decorating Gel Blue, 0.67 Oz\n",
      "The Great San Saba River Pecan Company Apple Pecan Spread\n"
     ]
    }
   ],
   "source": [
    "for food in sorted_sim_food[:50]:\n",
    "    print(index_to_title(food[0]))"
   ]
  },
  {
   "cell_type": "code",
   "execution_count": 57,
   "metadata": {},
   "outputs": [],
   "source": [
    "#verification"
   ]
  },
  {
   "cell_type": "code",
   "execution_count": 59,
   "metadata": {},
   "outputs": [
    {
     "data": {
      "text/plain": [
       "'Peaches,Water,High Fructose Corn Syrup,Corn Syrup,Sugar,Sugar.'"
      ]
     },
     "execution_count": 59,
     "metadata": {},
     "output_type": "execute_result"
    }
   ],
   "source": [
    "fooditems.iloc[title_to_index('Del Monte Sliced Peaches 15.25 oz')]['ingredients']"
   ]
  },
  {
   "cell_type": "code",
   "execution_count": 60,
   "metadata": {},
   "outputs": [
    {
     "data": {
      "text/plain": [
       "'Dried Prunes,Water,Corn Syrup,Sugar,Pectin.'"
      ]
     },
     "execution_count": 60,
     "metadata": {},
     "output_type": "execute_result"
    }
   ],
   "source": [
    "fooditems.iloc[title_to_index('Simon Fischer Fruit Bttr Prune Lekvar')]['ingredients'] #Top most"
   ]
  },
  {
   "cell_type": "code",
   "execution_count": 62,
   "metadata": {},
   "outputs": [
    {
     "data": {
      "text/plain": [
       "'Peaches,Water,High Fructose Corn Syrup,Corn Syrup,Sugar'"
      ]
     },
     "execution_count": 62,
     "metadata": {},
     "output_type": "execute_result"
    }
   ],
   "source": [
    "fooditems.iloc[title_to_index('Del Monte Sliced Peaches, 20.0 OZ')]['ingredients'] #Seocond in list"
   ]
  },
  {
   "cell_type": "code",
   "execution_count": 63,
   "metadata": {},
   "outputs": [
    {
     "data": {
      "text/plain": [
       "'Apples,Corn Syrup,Sugar,Pecans,Lemon Juice,Spices.'"
      ]
     },
     "execution_count": 63,
     "metadata": {},
     "output_type": "execute_result"
    }
   ],
   "source": [
    "fooditems.iloc[title_to_index('The Great San Saba River Pecan Company Apple Pecan Spread')]['ingredients'] #50th in list"
   ]
  },
  {
   "cell_type": "code",
   "execution_count": null,
   "metadata": {},
   "outputs": [],
   "source": []
  }
 ],
 "metadata": {
  "kernelspec": {
   "display_name": "Python 3",
   "language": "python",
   "name": "python3"
  },
  "language_info": {
   "codemirror_mode": {
    "name": "ipython",
    "version": 3
   },
   "file_extension": ".py",
   "mimetype": "text/x-python",
   "name": "python",
   "nbconvert_exporter": "python",
   "pygments_lexer": "ipython3",
   "version": "3.7.6"
  }
 },
 "nbformat": 4,
 "nbformat_minor": 4
}
